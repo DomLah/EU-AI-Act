{
  "nbformat": 4,
  "nbformat_minor": 0,
  "metadata": {
    "colab": {
      "provenance": [],
      "authorship_tag": "ABX9TyNhRe+Othdjjjc77BiShhIW",
      "include_colab_link": true
    },
    "kernelspec": {
      "name": "python3",
      "display_name": "Python 3"
    },
    "language_info": {
      "name": "python"
    }
  },
  "cells": [
    {
      "cell_type": "markdown",
      "metadata": {
        "id": "view-in-github",
        "colab_type": "text"
      },
      "source": [
        "<a href=\"https://colab.research.google.com/github/DomLah/EU-AI-Act/blob/main/Wealth_Dom.ipynb\" target=\"_parent\"><img src=\"https://colab.research.google.com/assets/colab-badge.svg\" alt=\"Open In Colab\"/></a>"
      ]
    },
    {
      "cell_type": "code",
      "execution_count": 43,
      "metadata": {
        "id": "8g_SHEmhgtsE"
      },
      "outputs": [],
      "source": [
        "# Import necessary libraries\n",
        "import pandas as pd\n",
        "import numpy as np\n",
        "import os\n",
        "from datetime import datetime\n",
        "from sklearn.model_selection import train_test_split\n",
        "from sklearn.preprocessing import OneHotEncoder, StandardScaler\n",
        "from sklearn.feature_extraction.text import TfidfVectorizer\n",
        "from sklearn.ensemble import GradientBoostingClassifier\n",
        "from sklearn.pipeline import Pipeline\n",
        "from sklearn.compose import ColumnTransformer\n",
        "from sklearn.metrics import classification_report\n",
        "from sklearn.impute import SimpleImputer"
      ]
    },
    {
      "cell_type": "code",
      "source": [
        "from google.colab import drive\n",
        "drive.mount('/content/drive')\n"
      ],
      "metadata": {
        "id": "FZ2jZO0clYs_",
        "colab": {
          "base_uri": "https://localhost:8080/"
        },
        "outputId": "3ea02d98-7609-48b0-cee8-a9c15620743d"
      },
      "execution_count": 44,
      "outputs": [
        {
          "output_type": "stream",
          "name": "stdout",
          "text": [
            "Drive already mounted at /content/drive; to attempt to forcibly remount, call drive.mount(\"/content/drive\", force_remount=True).\n"
          ]
        }
      ]
    },
    {
      "cell_type": "markdown",
      "source": [
        "Loading the Denver file as a Training file"
      ],
      "metadata": {
        "id": "SlBW-L2Sn5OV"
      }
    },
    {
      "cell_type": "code",
      "source": [
        "file_path = '/content/drive/My Drive/Colab/DenverForModeling.xls'\n",
        "df = pd.read_excel(file_path)"
      ],
      "metadata": {
        "id": "6jKD48JcnbbH"
      },
      "execution_count": 12,
      "outputs": []
    },
    {
      "cell_type": "code",
      "source": [
        "# Print the first few rows (header) of the result DataFrame\n",
        "print(df.head())"
      ],
      "metadata": {
        "colab": {
          "base_uri": "https://localhost:8080/"
        },
        "id": "VuhsZjPARnfl",
        "outputId": "16e87e87-7278-455e-c416-fa8ee82f3429"
      },
      "execution_count": 13,
      "outputs": [
        {
          "output_type": "stream",
          "name": "stdout",
          "text": [
            "           Full Name                             Url  Twitter Followers  \\\n",
            "0      Dan Daugherty              http://twitter.com                NaN   \n",
            "1         Ann Pierce       http://twitter.com/_annp_                1.0   \n",
            "2  Christopher Klein  http://twitter.com/_chrisklein              181.0   \n",
            "3       Jeffrey Lowe    http://twitter.com/_jefflowe               78.0   \n",
            "4    Torrie Hrdlicka  http://twitter.com/_lil_tortor               38.0   \n",
            "\n",
            "                                                 Bio          Job Title  \\\n",
            "0                                                NaN    CEO and Founder   \n",
            "1                                                NaN                NaN   \n",
            "2  Living in Denver - I'm a software engineer and...  Cofounder and CPO   \n",
            "3                 Co-Founder @EquipmentShare - YCW15         Co-Founder   \n",
            "4  üìÜ 24 |\\rüì±Digital Media Production | üé•...                NaN   \n",
            "\n",
            "          Company Gender  Dob Start    Dob End Label:Category  \n",
            "0        RentBits    Man        NaT        NaT   Entrepreneur  \n",
            "1             NaN  Woman        NaT        NaT   Entrepreneur  \n",
            "2          Rachio    Man 1983-01-01 1991-12-31   Entrepreneur  \n",
            "3  EquipmentShare    Man 1990-01-01 1998-12-31   Entrepreneur  \n",
            "4             NaN  Woman        NaT        NaT            OUT  \n"
          ]
        }
      ]
    },
    {
      "cell_type": "markdown",
      "source": [
        "Add a column if the bio is empty"
      ],
      "metadata": {
        "id": "6zFX38bWJMTs"
      }
    },
    {
      "cell_type": "code",
      "source": [
        "# Add a new column 'Empty_bio' which is True if the bio is empty or only contains whitespace\n",
        "df['Empty_bio'] = df['Bio'].apply(lambda bio: True if not str(bio).strip() else False)"
      ],
      "metadata": {
        "id": "XWzu6MLhJPx2"
      },
      "execution_count": 14,
      "outputs": []
    },
    {
      "cell_type": "markdown",
      "source": [
        "Loading the list of the most frequent keywords in the bio"
      ],
      "metadata": {
        "id": "CUEFlCocn-Ey"
      }
    },
    {
      "cell_type": "code",
      "source": [
        "# Define the list of keywords\n",
        "keywords = [\n",
        "    'advisor', 'acquired', 'ai', 'alum', 'angel', 'author', 'artist', 'board', 'business', 'capital', 'cardiac','care'\n",
        "    'ceo', 'cto', 'cio', 'cfo', 'cmo', 'chief', 'coach', 'cofounder', 'companies', 'company', 'cto',\n",
        "    'dad', 'data', 'dentist', 'design', 'development', 'digital', 'director', 'emergency','engineer',\n",
        "    'enthusiast', 'entrepreneur', 'estate', 'executive', 'family', 'former', 'founder',\n",
        "    'global', 'growth', 'guy', 'health', 'helping', 'husband', 'innovation',\n",
        "    'investor', 'investment', 'leader', 'life', 'love', 'lover', 'make', 'managing', 'marketing',\n",
        "    'media', 'medicine', 'member', 'music', 'nerd', 'officer', 'opinions', 'owner', 'partner', 'physician',\n",
        "    'president', 'product', 'real', 'science','social', 'software', 'speaker', 'specialist','sports',\n",
        "    'startups','surgeon', 'surgery' 'tech', 'techstars', 'technology', 'things', 'tweets', 'vice', 'venture', 'writer'\n",
        "]\n",
        "# Convert keywords list to a set to remove any duplicates\n",
        "keywords = list(set(keywords))\n",
        "\n"
      ],
      "metadata": {
        "id": "KsloaLGloLNJ"
      },
      "execution_count": 15,
      "outputs": []
    },
    {
      "cell_type": "code",
      "source": [
        "# Create new columns based on the presence of keywords in 'Bio'\n",
        "for keyword in keywords:\n",
        "    # Create a unique column name for each keyword\n",
        "    column_name = 'kw_' + keyword\n",
        "    df[column_name] = df['Bio'].apply(lambda bio: 1 if keyword in str(bio).lower() else 0)\n"
      ],
      "metadata": {
        "id": "S0C-Vw7-OZLQ"
      },
      "execution_count": 16,
      "outputs": []
    },
    {
      "cell_type": "code",
      "source": [
        "# Define a function to categorize into generational groups based on birth year\n",
        "def categorize_generation(row):\n",
        "    if pd.isna(row['Dob Start']):\n",
        "        return 'Unknown'  # Return 'Unknown' if the date is NaN\n",
        "    year = row['Dob Start'].year\n",
        "    if 1997 <= year <= 2012:\n",
        "        return 'Gen Z'\n",
        "    elif 1981 <= year <= 1996:\n",
        "        return 'Millennials'\n",
        "    elif 1965 <= year <= 1980:\n",
        "        return 'Gen X'\n",
        "    elif 1946 <= year <= 1964:\n",
        "        return 'Baby Boomers'\n",
        "    elif year <= 1945:\n",
        "        return 'Silent Generation'\n",
        "    else:\n",
        "        return 'Unknown'"
      ],
      "metadata": {
        "id": "eQUDJEzyogqA"
      },
      "execution_count": 17,
      "outputs": []
    },
    {
      "cell_type": "code",
      "source": [
        "# Convert 'Dob Start' to datetime and extract the year\n",
        "df['Dob Start'] = pd.to_datetime(df['Dob Start'], errors='coerce')\n",
        "df['Birth Year'] = df['Dob Start'].dt.year\n",
        "df['Generational Group'] = df.apply(categorize_generation, axis=1)"
      ],
      "metadata": {
        "id": "PkVCB2yFopCw"
      },
      "execution_count": 18,
      "outputs": []
    },
    {
      "cell_type": "code",
      "source": [
        "# Create new columns based on the presence of keywords in 'Bio'\n",
        "for keyword in keywords:\n",
        "    df[keyword] = df['Bio'].apply(lambda bio: 1 if keyword in str(bio).lower() else 0)\n"
      ],
      "metadata": {
        "id": "fGfwHfGVpO5J"
      },
      "execution_count": 19,
      "outputs": []
    },
    {
      "cell_type": "markdown",
      "source": [
        "Add brackets for the number of followers"
      ],
      "metadata": {
        "id": "qWcDk1dzSfHb"
      }
    },
    {
      "cell_type": "code",
      "source": [
        "# Define bins and labels for Twitter Followers\n",
        "bins = [0, 100, 500, 1000, 5000, 20000, 50000, 200000, float('inf')]\n",
        "labels = ['1-100', '100-500', '500-1000', '1000-5000', '5000-20000', '20000-50000', '50000-200000', 'over200000']\n"
      ],
      "metadata": {
        "id": "znA2sBAaSblo"
      },
      "execution_count": 20,
      "outputs": []
    },
    {
      "cell_type": "code",
      "source": [
        "# Bin the 'Twitter Followers' data\n",
        "df['Follower_Category'] = pd.cut(df['Twitter Followers'], bins=bins, labels=labels, include_lowest=True)\n"
      ],
      "metadata": {
        "id": "CtyaluahSh-B"
      },
      "execution_count": 21,
      "outputs": []
    },
    {
      "cell_type": "code",
      "source": [
        "# Remove rows where the category is 'Celebrity'\n",
        "df = df[df['Label:Category'] != 'Celebrity']"
      ],
      "metadata": {
        "id": "3oZgI61nuJj-"
      },
      "execution_count": 22,
      "outputs": []
    },
    {
      "cell_type": "code",
      "source": [
        "# Select features and target for the model\n",
        "# Feature columns\n",
        "feature_cols = ['Job Title', 'Company', 'Gender', 'Generational Group', 'Empty_bio', 'Follower_Category'] + ['kw_' + k for k in keywords]\n",
        "X = df[feature_cols]\n",
        "y = df['Label:Category']"
      ],
      "metadata": {
        "id": "thap5Y1ypXGH"
      },
      "execution_count": 23,
      "outputs": []
    },
    {
      "cell_type": "code",
      "source": [],
      "metadata": {
        "id": "gNJtNqqPuGA6"
      },
      "execution_count": null,
      "outputs": []
    },
    {
      "cell_type": "code",
      "source": [
        "# Split the dataset into training and testing sets\n",
        "X_train, X_test, y_train, y_test = train_test_split(X, y, test_size=0.2, random_state=42)\n"
      ],
      "metadata": {
        "id": "wyX_DQSopfZX"
      },
      "execution_count": 24,
      "outputs": []
    },
    {
      "cell_type": "code",
      "source": [
        "print(X_train.head())\n"
      ],
      "metadata": {
        "colab": {
          "base_uri": "https://localhost:8080/"
        },
        "id": "-1WQCFV2phh2",
        "outputId": "5fef53f5-cbcb-4c2c-c20c-17529ffaa009"
      },
      "execution_count": 25,
      "outputs": [
        {
          "output_type": "stream",
          "name": "stdout",
          "text": [
            "                          Job Title               Company Gender  \\\n",
            "497               Managing Director              Deloitte    Man   \n",
            "1454             CEO and co-Founder         Solid Silicon    Man   \n",
            "1283  VP Marketing & Communications            Infleqtion  Woman   \n",
            "983               Basketball Player  Los Angeles Clippers    Man   \n",
            "1273                            NaN                   NaN  Woman   \n",
            "\n",
            "     Generational Group  Empty_bio Follower_Category  kw_development  \\\n",
            "497             Unknown      False           100-500               0   \n",
            "1454              Gen X      False             1-100               0   \n",
            "1283              Gen X      False         1000-5000               0   \n",
            "983             Unknown      False      50000-200000               0   \n",
            "1273              Gen X      False           100-500               0   \n",
            "\n",
            "      kw_former  kw_officer  kw_enthusiast  ...  kw_data  kw_surgerytech  \\\n",
            "497           0           0              0  ...        0               0   \n",
            "1454          0           0              0  ...        0               0   \n",
            "1283          0           0              0  ...        0               0   \n",
            "983           0           0              0  ...        0               0   \n",
            "1273          0           0              0  ...        0               0   \n",
            "\n",
            "      kw_helping  kw_executive  kw_family  kw_alum  kw_real  kw_vice  \\\n",
            "497            0             0          0        0        0        0   \n",
            "1454           0             0          0        0        1        0   \n",
            "1283           0             0          0        0        0        0   \n",
            "983            0             0          0        0        0        0   \n",
            "1273           0             0          0        0        0        0   \n",
            "\n",
            "      kw_board  kw_tweets  \n",
            "497          0          0  \n",
            "1454         0          0  \n",
            "1283         0          0  \n",
            "983          0          1  \n",
            "1273         0          0  \n",
            "\n",
            "[5 rows x 88 columns]\n"
          ]
        }
      ]
    },
    {
      "cell_type": "code",
      "source": [
        "# Define preprocessing steps for categorical data\n",
        "categorical_transformer = OneHotEncoder(handle_unknown='ignore')\n"
      ],
      "metadata": {
        "id": "aawTRKx1p-EG"
      },
      "execution_count": 26,
      "outputs": []
    },
    {
      "cell_type": "code",
      "source": [
        "# Define a column transformer to apply the appropriate preprocessing\n",
        "preprocessor = ColumnTransformer(\n",
        "    transformers=[\n",
        "        ('cat', categorical_transformer, feature_cols)\n",
        "    ])\n"
      ],
      "metadata": {
        "id": "uNZucdYKqABZ"
      },
      "execution_count": 27,
      "outputs": []
    },
    {
      "cell_type": "code",
      "source": [
        "# Create and configure the Gradient Boosting classifier model\n",
        "model = Pipeline(steps=[\n",
        "    ('preprocessor', preprocessor),\n",
        "    ('classifier', GradientBoostingClassifier())\n",
        "])\n"
      ],
      "metadata": {
        "id": "K28yD_WUqFEV"
      },
      "execution_count": 28,
      "outputs": []
    },
    {
      "cell_type": "code",
      "source": [
        "# Train the model with the training data\n",
        "model.fit(X_train, y_train)"
      ],
      "metadata": {
        "colab": {
          "base_uri": "https://localhost:8080/",
          "height": 192
        },
        "id": "aPR4uK4UqIao",
        "outputId": "fdeae8d2-38e9-4f71-b7bd-22645f5e927a"
      },
      "execution_count": 30,
      "outputs": [
        {
          "output_type": "execute_result",
          "data": {
            "text/plain": [
              "Pipeline(steps=[('preprocessor',\n",
              "                 ColumnTransformer(transformers=[('cat',\n",
              "                                                  OneHotEncoder(handle_unknown='ignore'),\n",
              "                                                  ['Job Title', 'Company',\n",
              "                                                   'Gender',\n",
              "                                                   'Generational Group',\n",
              "                                                   'Empty_bio',\n",
              "                                                   'Follower_Category',\n",
              "                                                   'kw_development',\n",
              "                                                   'kw_former', 'kw_officer',\n",
              "                                                   'kw_enthusiast',\n",
              "                                                   'kw_capital', 'kw_dad',\n",
              "                                                   'kw_ai', 'kw_owner',\n",
              "                                                   'kw_techstars', 'kw_estate',\n",
              "                                                   'kw_nerd', 'kw_lover',\n",
              "                                                   'kw_cio', 'kw_chief',\n",
              "                                                   'kw_digital', 'kw_company',\n",
              "                                                   'kw_things', 'kw_acquired',\n",
              "                                                   'kw_sports', 'kw_angel',\n",
              "                                                   'kw_marketing', 'kw_careceo',\n",
              "                                                   'kw_love', 'kw_author', ...])])),\n",
              "                ('classifier', GradientBoostingClassifier())])"
            ],
            "text/html": [
              "<style>#sk-container-id-1 {color: black;background-color: white;}#sk-container-id-1 pre{padding: 0;}#sk-container-id-1 div.sk-toggleable {background-color: white;}#sk-container-id-1 label.sk-toggleable__label {cursor: pointer;display: block;width: 100%;margin-bottom: 0;padding: 0.3em;box-sizing: border-box;text-align: center;}#sk-container-id-1 label.sk-toggleable__label-arrow:before {content: \"▸\";float: left;margin-right: 0.25em;color: #696969;}#sk-container-id-1 label.sk-toggleable__label-arrow:hover:before {color: black;}#sk-container-id-1 div.sk-estimator:hover label.sk-toggleable__label-arrow:before {color: black;}#sk-container-id-1 div.sk-toggleable__content {max-height: 0;max-width: 0;overflow: hidden;text-align: left;background-color: #f0f8ff;}#sk-container-id-1 div.sk-toggleable__content pre {margin: 0.2em;color: black;border-radius: 0.25em;background-color: #f0f8ff;}#sk-container-id-1 input.sk-toggleable__control:checked~div.sk-toggleable__content {max-height: 200px;max-width: 100%;overflow: auto;}#sk-container-id-1 input.sk-toggleable__control:checked~label.sk-toggleable__label-arrow:before {content: \"▾\";}#sk-container-id-1 div.sk-estimator input.sk-toggleable__control:checked~label.sk-toggleable__label {background-color: #d4ebff;}#sk-container-id-1 div.sk-label input.sk-toggleable__control:checked~label.sk-toggleable__label {background-color: #d4ebff;}#sk-container-id-1 input.sk-hidden--visually {border: 0;clip: rect(1px 1px 1px 1px);clip: rect(1px, 1px, 1px, 1px);height: 1px;margin: -1px;overflow: hidden;padding: 0;position: absolute;width: 1px;}#sk-container-id-1 div.sk-estimator {font-family: monospace;background-color: #f0f8ff;border: 1px dotted black;border-radius: 0.25em;box-sizing: border-box;margin-bottom: 0.5em;}#sk-container-id-1 div.sk-estimator:hover {background-color: #d4ebff;}#sk-container-id-1 div.sk-parallel-item::after {content: \"\";width: 100%;border-bottom: 1px solid gray;flex-grow: 1;}#sk-container-id-1 div.sk-label:hover label.sk-toggleable__label {background-color: #d4ebff;}#sk-container-id-1 div.sk-serial::before {content: \"\";position: absolute;border-left: 1px solid gray;box-sizing: border-box;top: 0;bottom: 0;left: 50%;z-index: 0;}#sk-container-id-1 div.sk-serial {display: flex;flex-direction: column;align-items: center;background-color: white;padding-right: 0.2em;padding-left: 0.2em;position: relative;}#sk-container-id-1 div.sk-item {position: relative;z-index: 1;}#sk-container-id-1 div.sk-parallel {display: flex;align-items: stretch;justify-content: center;background-color: white;position: relative;}#sk-container-id-1 div.sk-item::before, #sk-container-id-1 div.sk-parallel-item::before {content: \"\";position: absolute;border-left: 1px solid gray;box-sizing: border-box;top: 0;bottom: 0;left: 50%;z-index: -1;}#sk-container-id-1 div.sk-parallel-item {display: flex;flex-direction: column;z-index: 1;position: relative;background-color: white;}#sk-container-id-1 div.sk-parallel-item:first-child::after {align-self: flex-end;width: 50%;}#sk-container-id-1 div.sk-parallel-item:last-child::after {align-self: flex-start;width: 50%;}#sk-container-id-1 div.sk-parallel-item:only-child::after {width: 0;}#sk-container-id-1 div.sk-dashed-wrapped {border: 1px dashed gray;margin: 0 0.4em 0.5em 0.4em;box-sizing: border-box;padding-bottom: 0.4em;background-color: white;}#sk-container-id-1 div.sk-label label {font-family: monospace;font-weight: bold;display: inline-block;line-height: 1.2em;}#sk-container-id-1 div.sk-label-container {text-align: center;}#sk-container-id-1 div.sk-container {/* jupyter's `normalize.less` sets `[hidden] { display: none; }` but bootstrap.min.css set `[hidden] { display: none !important; }` so we also need the `!important` here to be able to override the default hidden behavior on the sphinx rendered scikit-learn.org. See: https://github.com/scikit-learn/scikit-learn/issues/21755 */display: inline-block !important;position: relative;}#sk-container-id-1 div.sk-text-repr-fallback {display: none;}</style><div id=\"sk-container-id-1\" class=\"sk-top-container\"><div class=\"sk-text-repr-fallback\"><pre>Pipeline(steps=[(&#x27;preprocessor&#x27;,\n",
              "                 ColumnTransformer(transformers=[(&#x27;cat&#x27;,\n",
              "                                                  OneHotEncoder(handle_unknown=&#x27;ignore&#x27;),\n",
              "                                                  [&#x27;Job Title&#x27;, &#x27;Company&#x27;,\n",
              "                                                   &#x27;Gender&#x27;,\n",
              "                                                   &#x27;Generational Group&#x27;,\n",
              "                                                   &#x27;Empty_bio&#x27;,\n",
              "                                                   &#x27;Follower_Category&#x27;,\n",
              "                                                   &#x27;kw_development&#x27;,\n",
              "                                                   &#x27;kw_former&#x27;, &#x27;kw_officer&#x27;,\n",
              "                                                   &#x27;kw_enthusiast&#x27;,\n",
              "                                                   &#x27;kw_capital&#x27;, &#x27;kw_dad&#x27;,\n",
              "                                                   &#x27;kw_ai&#x27;, &#x27;kw_owner&#x27;,\n",
              "                                                   &#x27;kw_techstars&#x27;, &#x27;kw_estate&#x27;,\n",
              "                                                   &#x27;kw_nerd&#x27;, &#x27;kw_lover&#x27;,\n",
              "                                                   &#x27;kw_cio&#x27;, &#x27;kw_chief&#x27;,\n",
              "                                                   &#x27;kw_digital&#x27;, &#x27;kw_company&#x27;,\n",
              "                                                   &#x27;kw_things&#x27;, &#x27;kw_acquired&#x27;,\n",
              "                                                   &#x27;kw_sports&#x27;, &#x27;kw_angel&#x27;,\n",
              "                                                   &#x27;kw_marketing&#x27;, &#x27;kw_careceo&#x27;,\n",
              "                                                   &#x27;kw_love&#x27;, &#x27;kw_author&#x27;, ...])])),\n",
              "                (&#x27;classifier&#x27;, GradientBoostingClassifier())])</pre><b>In a Jupyter environment, please rerun this cell to show the HTML representation or trust the notebook. <br />On GitHub, the HTML representation is unable to render, please try loading this page with nbviewer.org.</b></div><div class=\"sk-container\" hidden><div class=\"sk-item sk-dashed-wrapped\"><div class=\"sk-label-container\"><div class=\"sk-label sk-toggleable\"><input class=\"sk-toggleable__control sk-hidden--visually\" id=\"sk-estimator-id-1\" type=\"checkbox\" ><label for=\"sk-estimator-id-1\" class=\"sk-toggleable__label sk-toggleable__label-arrow\">Pipeline</label><div class=\"sk-toggleable__content\"><pre>Pipeline(steps=[(&#x27;preprocessor&#x27;,\n",
              "                 ColumnTransformer(transformers=[(&#x27;cat&#x27;,\n",
              "                                                  OneHotEncoder(handle_unknown=&#x27;ignore&#x27;),\n",
              "                                                  [&#x27;Job Title&#x27;, &#x27;Company&#x27;,\n",
              "                                                   &#x27;Gender&#x27;,\n",
              "                                                   &#x27;Generational Group&#x27;,\n",
              "                                                   &#x27;Empty_bio&#x27;,\n",
              "                                                   &#x27;Follower_Category&#x27;,\n",
              "                                                   &#x27;kw_development&#x27;,\n",
              "                                                   &#x27;kw_former&#x27;, &#x27;kw_officer&#x27;,\n",
              "                                                   &#x27;kw_enthusiast&#x27;,\n",
              "                                                   &#x27;kw_capital&#x27;, &#x27;kw_dad&#x27;,\n",
              "                                                   &#x27;kw_ai&#x27;, &#x27;kw_owner&#x27;,\n",
              "                                                   &#x27;kw_techstars&#x27;, &#x27;kw_estate&#x27;,\n",
              "                                                   &#x27;kw_nerd&#x27;, &#x27;kw_lover&#x27;,\n",
              "                                                   &#x27;kw_cio&#x27;, &#x27;kw_chief&#x27;,\n",
              "                                                   &#x27;kw_digital&#x27;, &#x27;kw_company&#x27;,\n",
              "                                                   &#x27;kw_things&#x27;, &#x27;kw_acquired&#x27;,\n",
              "                                                   &#x27;kw_sports&#x27;, &#x27;kw_angel&#x27;,\n",
              "                                                   &#x27;kw_marketing&#x27;, &#x27;kw_careceo&#x27;,\n",
              "                                                   &#x27;kw_love&#x27;, &#x27;kw_author&#x27;, ...])])),\n",
              "                (&#x27;classifier&#x27;, GradientBoostingClassifier())])</pre></div></div></div><div class=\"sk-serial\"><div class=\"sk-item sk-dashed-wrapped\"><div class=\"sk-label-container\"><div class=\"sk-label sk-toggleable\"><input class=\"sk-toggleable__control sk-hidden--visually\" id=\"sk-estimator-id-2\" type=\"checkbox\" ><label for=\"sk-estimator-id-2\" class=\"sk-toggleable__label sk-toggleable__label-arrow\">preprocessor: ColumnTransformer</label><div class=\"sk-toggleable__content\"><pre>ColumnTransformer(transformers=[(&#x27;cat&#x27;, OneHotEncoder(handle_unknown=&#x27;ignore&#x27;),\n",
              "                                 [&#x27;Job Title&#x27;, &#x27;Company&#x27;, &#x27;Gender&#x27;,\n",
              "                                  &#x27;Generational Group&#x27;, &#x27;Empty_bio&#x27;,\n",
              "                                  &#x27;Follower_Category&#x27;, &#x27;kw_development&#x27;,\n",
              "                                  &#x27;kw_former&#x27;, &#x27;kw_officer&#x27;, &#x27;kw_enthusiast&#x27;,\n",
              "                                  &#x27;kw_capital&#x27;, &#x27;kw_dad&#x27;, &#x27;kw_ai&#x27;, &#x27;kw_owner&#x27;,\n",
              "                                  &#x27;kw_techstars&#x27;, &#x27;kw_estate&#x27;, &#x27;kw_nerd&#x27;,\n",
              "                                  &#x27;kw_lover&#x27;, &#x27;kw_cio&#x27;, &#x27;kw_chief&#x27;,\n",
              "                                  &#x27;kw_digital&#x27;, &#x27;kw_company&#x27;, &#x27;kw_things&#x27;,\n",
              "                                  &#x27;kw_acquired&#x27;, &#x27;kw_sports&#x27;, &#x27;kw_angel&#x27;,\n",
              "                                  &#x27;kw_marketing&#x27;, &#x27;kw_careceo&#x27;, &#x27;kw_love&#x27;,\n",
              "                                  &#x27;kw_author&#x27;, ...])])</pre></div></div></div><div class=\"sk-parallel\"><div class=\"sk-parallel-item\"><div class=\"sk-item\"><div class=\"sk-label-container\"><div class=\"sk-label sk-toggleable\"><input class=\"sk-toggleable__control sk-hidden--visually\" id=\"sk-estimator-id-3\" type=\"checkbox\" ><label for=\"sk-estimator-id-3\" class=\"sk-toggleable__label sk-toggleable__label-arrow\">cat</label><div class=\"sk-toggleable__content\"><pre>[&#x27;Job Title&#x27;, &#x27;Company&#x27;, &#x27;Gender&#x27;, &#x27;Generational Group&#x27;, &#x27;Empty_bio&#x27;, &#x27;Follower_Category&#x27;, &#x27;kw_development&#x27;, &#x27;kw_former&#x27;, &#x27;kw_officer&#x27;, &#x27;kw_enthusiast&#x27;, &#x27;kw_capital&#x27;, &#x27;kw_dad&#x27;, &#x27;kw_ai&#x27;, &#x27;kw_owner&#x27;, &#x27;kw_techstars&#x27;, &#x27;kw_estate&#x27;, &#x27;kw_nerd&#x27;, &#x27;kw_lover&#x27;, &#x27;kw_cio&#x27;, &#x27;kw_chief&#x27;, &#x27;kw_digital&#x27;, &#x27;kw_company&#x27;, &#x27;kw_things&#x27;, &#x27;kw_acquired&#x27;, &#x27;kw_sports&#x27;, &#x27;kw_angel&#x27;, &#x27;kw_marketing&#x27;, &#x27;kw_careceo&#x27;, &#x27;kw_love&#x27;, &#x27;kw_author&#x27;, &#x27;kw_writer&#x27;, &#x27;kw_startups&#x27;, &#x27;kw_specialist&#x27;, &#x27;kw_health&#x27;, &#x27;kw_life&#x27;, &#x27;kw_partner&#x27;, &#x27;kw_surgeon&#x27;, &#x27;kw_cardiac&#x27;, &#x27;kw_make&#x27;, &#x27;kw_coach&#x27;, &#x27;kw_cto&#x27;, &#x27;kw_media&#x27;, &#x27;kw_technology&#x27;, &#x27;kw_husband&#x27;, &#x27;kw_entrepreneur&#x27;, &#x27;kw_emergency&#x27;, &#x27;kw_guy&#x27;, &#x27;kw_venture&#x27;, &#x27;kw_global&#x27;, &#x27;kw_member&#x27;, &#x27;kw_artist&#x27;, &#x27;kw_managing&#x27;, &#x27;kw_innovation&#x27;, &#x27;kw_opinions&#x27;, &#x27;kw_software&#x27;, &#x27;kw_cmo&#x27;, &#x27;kw_social&#x27;, &#x27;kw_leader&#x27;, &#x27;kw_investor&#x27;, &#x27;kw_director&#x27;, &#x27;kw_founder&#x27;, &#x27;kw_growth&#x27;, &#x27;kw_product&#x27;, &#x27;kw_engineer&#x27;, &#x27;kw_business&#x27;, &#x27;kw_physician&#x27;, &#x27;kw_investment&#x27;, &#x27;kw_medicine&#x27;, &#x27;kw_companies&#x27;, &#x27;kw_design&#x27;, &#x27;kw_president&#x27;, &#x27;kw_advisor&#x27;, &#x27;kw_music&#x27;, &#x27;kw_science&#x27;, &#x27;kw_dentist&#x27;, &#x27;kw_speaker&#x27;, &#x27;kw_cfo&#x27;, &#x27;kw_cofounder&#x27;, &#x27;kw_data&#x27;, &#x27;kw_surgerytech&#x27;, &#x27;kw_helping&#x27;, &#x27;kw_executive&#x27;, &#x27;kw_family&#x27;, &#x27;kw_alum&#x27;, &#x27;kw_real&#x27;, &#x27;kw_vice&#x27;, &#x27;kw_board&#x27;, &#x27;kw_tweets&#x27;]</pre></div></div></div><div class=\"sk-serial\"><div class=\"sk-item\"><div class=\"sk-estimator sk-toggleable\"><input class=\"sk-toggleable__control sk-hidden--visually\" id=\"sk-estimator-id-4\" type=\"checkbox\" ><label for=\"sk-estimator-id-4\" class=\"sk-toggleable__label sk-toggleable__label-arrow\">OneHotEncoder</label><div class=\"sk-toggleable__content\"><pre>OneHotEncoder(handle_unknown=&#x27;ignore&#x27;)</pre></div></div></div></div></div></div></div></div><div class=\"sk-item\"><div class=\"sk-estimator sk-toggleable\"><input class=\"sk-toggleable__control sk-hidden--visually\" id=\"sk-estimator-id-5\" type=\"checkbox\" ><label for=\"sk-estimator-id-5\" class=\"sk-toggleable__label sk-toggleable__label-arrow\">GradientBoostingClassifier</label><div class=\"sk-toggleable__content\"><pre>GradientBoostingClassifier()</pre></div></div></div></div></div></div></div>"
            ]
          },
          "metadata": {},
          "execution_count": 30
        }
      ]
    },
    {
      "cell_type": "code",
      "source": [
        "# Predict the categories for the test set\n",
        "y_pred = model.predict(X_test)\n"
      ],
      "metadata": {
        "id": "1jLnF-cItaA_"
      },
      "execution_count": 31,
      "outputs": []
    },
    {
      "cell_type": "code",
      "source": [
        "# Print a classification report to evaluate the model\n",
        "print(classification_report(y_test, y_pred))"
      ],
      "metadata": {
        "colab": {
          "base_uri": "https://localhost:8080/"
        },
        "id": "rjkBTwkNtfPJ",
        "outputId": "36b7e41f-22f5-4741-e97f-6fe248cd57cc"
      },
      "execution_count": 78,
      "outputs": [
        {
          "output_type": "stream",
          "name": "stdout",
          "text": [
            "              precision    recall  f1-score   support\n",
            "\n",
            "Entrepreneur       0.49      0.75      0.60       100\n",
            "   Executive       0.73      0.31      0.43        72\n",
            "    Investor       0.68      0.57      0.62        40\n",
            "         OUT       0.51      0.53      0.52        80\n",
            "Professional       0.71      0.50      0.59        10\n",
            " Real Estate       0.75      0.43      0.55         7\n",
            "\n",
            "    accuracy                           0.55       309\n",
            "   macro avg       0.65      0.51      0.55       309\n",
            "weighted avg       0.59      0.55      0.54       309\n",
            "\n"
          ]
        }
      ]
    },
    {
      "cell_type": "markdown",
      "source": [
        "APPLYING THE MODEL TO A NEW FILE.**bold text**\n"
      ],
      "metadata": {
        "id": "vwZ4ifBKP-H3"
      }
    },
    {
      "cell_type": "code",
      "source": [
        "# Load the new data (replace 'NewData.xls' with your actual file name)\n",
        "new_data_path = '/content/drive/My Drive/Colab/DallasMusicToScore.xls'  # Update the path as needed\n",
        "new_df = pd.read_excel(new_data_path)\n"
      ],
      "metadata": {
        "id": "SalFoNFFQDJ_"
      },
      "execution_count": 65,
      "outputs": []
    },
    {
      "cell_type": "code",
      "source": [
        "# Method 1: Using `shape`\n",
        "num_records_shape = new_df.shape[0]\n",
        "print(\"Number of records using `shape`:\", num_records_shape)\n",
        "\n",
        "# Method 2: Using `len()`\n",
        "num_records_len = len(new_df)\n",
        "print(\"Number of records using `len()`:\", num_records_len)"
      ],
      "metadata": {
        "colab": {
          "base_uri": "https://localhost:8080/"
        },
        "id": "of71mB3yGvSZ",
        "outputId": "3367f665-472f-4375-df22-f80ff5ecc655"
      },
      "execution_count": 66,
      "outputs": [
        {
          "output_type": "stream",
          "name": "stdout",
          "text": [
            "Number of records using `shape`: 7385\n",
            "Number of records using `len()`: 7385\n"
          ]
        }
      ]
    },
    {
      "cell_type": "code",
      "source": [
        "# Preprocess the new data\n",
        "# Add the 'Empty_bio' column\n",
        "new_df['Empty_bio'] = new_df['Bio'].apply(lambda bio: True if not str(bio).strip() else False)\n"
      ],
      "metadata": {
        "id": "FvjiSTFtP5ec"
      },
      "execution_count": 67,
      "outputs": []
    },
    {
      "cell_type": "code",
      "source": [
        "# Create keyword columns\n",
        "for keyword in keywords:\n",
        "    column_name = 'kw_' + keyword\n",
        "    new_df[column_name] = new_df['Bio'].apply(lambda bio: 1 if keyword in str(bio).lower() else 0)\n"
      ],
      "metadata": {
        "id": "EPRhRU_qQMT6"
      },
      "execution_count": 68,
      "outputs": []
    },
    {
      "cell_type": "code",
      "source": [
        "# Convert 'Dob Start' to datetime and extract the year\n",
        "new_df['Dob Start'] = pd.to_datetime(new_df['Dob Start'], errors='coerce')\n",
        "new_df['Birth Year'] = new_df['Dob Start'].dt.year\n",
        "new_df['Generational Group'] = df.apply(categorize_generation, axis=1)\n"
      ],
      "metadata": {
        "id": "4mpCCwkP2G04"
      },
      "execution_count": 69,
      "outputs": []
    },
    {
      "cell_type": "code",
      "source": [
        "# Bin the 'Twitter Followers' data\n",
        "new_df['Follower_Category'] = pd.cut(new_df['Twitter Followers'], bins=bins, labels=labels, include_lowest=True)\n"
      ],
      "metadata": {
        "id": "ENHQxpJY2at0"
      },
      "execution_count": 70,
      "outputs": []
    },
    {
      "cell_type": "code",
      "source": [
        "# Prepare the feature set (ensure this matches the features used in your model)\n",
        "new_X = new_df[['Job Title', 'Company', 'Gender', 'Generational Group', 'Empty_bio','Follower_Category'] + ['kw_' + k for k in keywords]]\n"
      ],
      "metadata": {
        "id": "vnfH3E4JQO1o"
      },
      "execution_count": 71,
      "outputs": []
    },
    {
      "cell_type": "code",
      "source": [
        "# Make predictions\n",
        "new_predictions = model.predict(new_X)\n"
      ],
      "metadata": {
        "id": "ziCQNO5iQR2D"
      },
      "execution_count": 72,
      "outputs": []
    },
    {
      "cell_type": "markdown",
      "source": [
        "Creating a result file with the url, the predicted category and the probability"
      ],
      "metadata": {
        "id": "_siMazn5Qywn"
      }
    },
    {
      "cell_type": "code",
      "source": [
        "# Assuming 'new_df' is your new data DataFrame and 'model' is your trained model\n",
        "\n",
        "# Make predictions and get probabilities\n",
        "# predicted_categories = model.predict(new_X)\n",
        "predicted_probabilities = model.predict_proba(new_X)\n"
      ],
      "metadata": {
        "id": "x2cJj3ZEQUcO"
      },
      "execution_count": 73,
      "outputs": []
    },
    {
      "cell_type": "code",
      "source": [
        "# Get the highest probability and its corresponding category for each instance\n",
        "max_probs = predicted_probabilities.max(axis=1)\n",
        "predicted_labels = [model.classes_[np.argmax(prob)] for prob in predicted_probabilities]\n"
      ],
      "metadata": {
        "id": "nrOWgUvaRD9Y"
      },
      "execution_count": 74,
      "outputs": []
    },
    {
      "cell_type": "code",
      "source": [
        "# Define probability bins and labels\n",
        "prob_bins = [0, 0.1, 0.2, 0.3, 0.4, 0.5, 0.6, 0.7, 0.8, 0.9, 1]\n",
        "prob_labels = ['0-10%', '10-20%', '20-30%', '30-40%', '40-50%', '50-60%', '60-70%', '70-80%', '80-90%', '90-100%']\n",
        "\n",
        "# Categorize each probability into a bracket\n",
        "prob_brackets = pd.cut(max_probs, bins=prob_bins, labels=prob_labels, include_lowest=True)\n"
      ],
      "metadata": {
        "id": "eHdQGbXOJXX2"
      },
      "execution_count": 75,
      "outputs": []
    },
    {
      "cell_type": "code",
      "source": [
        "# Prepare the result DataFrame\n",
        "result_df = pd.DataFrame({\n",
        "    'URL': new_df['Url'],\n",
        "    'Predicted Category': predicted_labels,\n",
        "    'Probability': max_probs,\n",
        "    'Probability Bracket': prob_brackets\n",
        "})"
      ],
      "metadata": {
        "id": "dpdClyt4RQ7C"
      },
      "execution_count": 76,
      "outputs": []
    },
    {
      "cell_type": "code",
      "source": [
        "# Save the results to a CSV file\n",
        "result_file_path = '/content/drive/My Drive/Colab/prediction_dallasmusic.csv'  # Update the path as needed\n",
        "result_df.to_csv(result_file_path, index=False)\n",
        "\n",
        "print(\"Results saved to\", result_file_path)"
      ],
      "metadata": {
        "colab": {
          "base_uri": "https://localhost:8080/"
        },
        "id": "2cc1G1SXRS0Y",
        "outputId": "90690f4d-3d63-456d-8882-6720e21cec5b"
      },
      "execution_count": 77,
      "outputs": [
        {
          "output_type": "stream",
          "name": "stdout",
          "text": [
            "Results saved to /content/drive/My Drive/Colab/prediction_dallasmusic.csv\n"
          ]
        }
      ]
    }
  ]
}